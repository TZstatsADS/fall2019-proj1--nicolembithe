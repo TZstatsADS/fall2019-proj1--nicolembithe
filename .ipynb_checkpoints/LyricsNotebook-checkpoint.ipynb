{
 "cells": [
  {
   "cell_type": "markdown",
   "metadata": {},
   "source": [
    "# Insert data story name here\n",
    "By Nicole Mbithe, ncm2144"
   ]
  },
  {
   "cell_type": "markdown",
   "metadata": {},
   "source": [
    "# Step 1: Import/download the necessary libraries"
   ]
  },
  {
   "cell_type": "markdown",
   "metadata": {},
   "source": [
    " Note that if these are not installed on your computer you might want to install them before running the notebook. The easiest way is to \"pip install \" on your computer."
   ]
  },
  {
   "cell_type": "code",
   "execution_count": 48,
   "metadata": {},
   "outputs": [
    {
     "name": "stderr",
     "output_type": "stream",
     "text": [
      "[nltk_data] Downloading package punkt to\n",
      "[nltk_data]     /Users/nicolembithe/nltk_data...\n",
      "[nltk_data]   Package punkt is already up-to-date!\n",
      "[nltk_data] Downloading package stopwords to\n",
      "[nltk_data]     /Users/nicolembithe/nltk_data...\n",
      "[nltk_data]   Package stopwords is already up-to-date!\n",
      "[nltk_data] Downloading package vader_lexicon to\n",
      "[nltk_data]     /Users/nicolembithe/nltk_data...\n"
     ]
    }
   ],
   "source": [
    "import nltk \n",
    "import string\n",
    "from nltk.sentiment.vader import SentimentIntensityAnalyzer\n",
    "nltk.download('punkt')\n",
    "nltk.download('stopwords')\n",
    "nltk.download('vader_lexicon')\n",
    "from nltk.corpus import stopwords\n",
    "en_stopwords = set(stopwords.words('english')) \n",
    "import pandas as pd\n"
   ]
  },
  {
   "cell_type": "markdown",
   "metadata": {},
   "source": [
    "# Step 2: Reading the data, data cleaning and preparation for analysis"
   ]
  },
  {
   "cell_type": "code",
   "execution_count": 70,
   "metadata": {},
   "outputs": [],
   "source": [
    "#Load the data in. This creates a dataframe with all the data\n",
    "lyrics = pd.read_csv(\"data/lyrics.csv\")\n",
    "\n",
    "#Helper function to help clean the data\n",
    "def preprocess(v):\n",
    "    \n",
    "    #tokenize the sentences\n",
    "    x = nltk.word_tokenize(v)\n",
    "    \n",
    "    #remove punctuation\n",
    "    x = [word for word in x if word not in string.punctuation]\n",
    "    \n",
    "    #remove stopwords\n",
    "    x = [word.lower() for word in x if word not in  en_stopwords]\n",
    "    \n",
    "    return x\n",
    "\n",
    "#Also want to get the sentiment score for each song based on the sentences in the song and add a column with\n",
    "sid = SentimentIntensityAnalyzer()\n",
    "def get_sentiments(v):\n",
    "    \n",
    "    #get the sentences in the song\n",
    "    x = nltk.sent_tokenize(v)\n",
    "    \n",
    "    #get the seniment score for the each sentence and track the max and the min\n",
    "    max_sent = -float('inf')\n",
    "    min_sent = float('inf')\n",
    "    \n",
    "    for sentence in x:\n",
    "        score = sid.polarity_scores(sentence)['compound']\n",
    "        max_sent = score if score > max_sent else max_sent\n",
    "        min_sent = score if score < min_sent else min_sent\n",
    "\n",
    "    \n",
    "    return pd.Series([max_sent, min_sent], index=['max_sent', 'min_sent'])\n",
    "    \n",
    "#get the sentiment scores for each song\n",
    "lyrics = pd.concat([lyrics, lyrics['lyrics'].apply(get_sentiments)], axis = 1)\n",
    "\n",
    "#get the cleaned words from the song lyrics\n",
    "lyrics['lyrics'] = lyrics['lyrics'].apply(preprocess)"
   ]
  },
  {
   "cell_type": "markdown",
   "metadata": {},
   "source": [
    "# Step 3: Exploratory analysis of the data"
   ]
  },
  {
   "cell_type": "code",
   "execution_count": 75,
   "metadata": {},
   "outputs": [
    {
     "data": {
      "text/html": [
       "<div>\n",
       "<style scoped>\n",
       "    .dataframe tbody tr th:only-of-type {\n",
       "        vertical-align: middle;\n",
       "    }\n",
       "\n",
       "    .dataframe tbody tr th {\n",
       "        vertical-align: top;\n",
       "    }\n",
       "\n",
       "    .dataframe thead th {\n",
       "        text-align: right;\n",
       "    }\n",
       "</style>\n",
       "<table border=\"1\" class=\"dataframe\">\n",
       "  <thead>\n",
       "    <tr style=\"text-align: right;\">\n",
       "      <th></th>\n",
       "      <th>year</th>\n",
       "      <th>max_sent</th>\n",
       "    </tr>\n",
       "  </thead>\n",
       "  <tbody>\n",
       "    <tr>\n",
       "      <th>0</th>\n",
       "      <td>2009</td>\n",
       "      <td>0.6533</td>\n",
       "    </tr>\n",
       "    <tr>\n",
       "      <th>1</th>\n",
       "      <td>2009</td>\n",
       "      <td>0.7567</td>\n",
       "    </tr>\n",
       "    <tr>\n",
       "      <th>2</th>\n",
       "      <td>2007</td>\n",
       "      <td>0.8225</td>\n",
       "    </tr>\n",
       "    <tr>\n",
       "      <th>3</th>\n",
       "      <td>2007</td>\n",
       "      <td>-0.0258</td>\n",
       "    </tr>\n",
       "    <tr>\n",
       "      <th>4</th>\n",
       "      <td>2007</td>\n",
       "      <td>-0.9947</td>\n",
       "    </tr>\n",
       "    <tr>\n",
       "      <th>5</th>\n",
       "      <td>2007</td>\n",
       "      <td>0.9907</td>\n",
       "    </tr>\n",
       "    <tr>\n",
       "      <th>6</th>\n",
       "      <td>2013</td>\n",
       "      <td>0.7845</td>\n",
       "    </tr>\n",
       "    <tr>\n",
       "      <th>7</th>\n",
       "      <td>2013</td>\n",
       "      <td>0.7261</td>\n",
       "    </tr>\n",
       "    <tr>\n",
       "      <th>8</th>\n",
       "      <td>2005</td>\n",
       "      <td>0.9633</td>\n",
       "    </tr>\n",
       "    <tr>\n",
       "      <th>9</th>\n",
       "      <td>2005</td>\n",
       "      <td>-0.9776</td>\n",
       "    </tr>\n",
       "  </tbody>\n",
       "</table>\n",
       "</div>"
      ],
      "text/plain": [
       "   year  max_sent\n",
       "0  2009    0.6533\n",
       "1  2009    0.7567\n",
       "2  2007    0.8225\n",
       "3  2007   -0.0258\n",
       "4  2007   -0.9947\n",
       "5  2007    0.9907\n",
       "6  2013    0.7845\n",
       "7  2013    0.7261\n",
       "8  2005    0.9633\n",
       "9  2005   -0.9776"
      ]
     },
     "execution_count": 75,
     "metadata": {},
     "output_type": "execute_result"
    }
   ],
   "source": [
    "#Do a word cloud by genre\n",
    "#Check max hapiness scored by genre\n",
    "#Check max hapiness score by the year and observes the gtresn\n",
    "#Determine what is the most emotional genre in music\n",
    "lyrics.n\n",
    "lyrics[(lyrics.genre == 'Hip-Hop')][['year', 'max_sent']].set_index('')"
   ]
  },
  {
   "cell_type": "code",
   "execution_count": 51,
   "metadata": {},
   "outputs": [
    {
     "data": {
      "text/html": [
       "<div>\n",
       "<style scoped>\n",
       "    .dataframe tbody tr th:only-of-type {\n",
       "        vertical-align: middle;\n",
       "    }\n",
       "\n",
       "    .dataframe tbody tr th {\n",
       "        vertical-align: top;\n",
       "    }\n",
       "\n",
       "    .dataframe thead th {\n",
       "        text-align: right;\n",
       "    }\n",
       "</style>\n",
       "<table border=\"1\" class=\"dataframe\">\n",
       "  <thead>\n",
       "    <tr style=\"text-align: right;\">\n",
       "      <th></th>\n",
       "      <th>song</th>\n",
       "      <th>year</th>\n",
       "      <th>artist</th>\n",
       "      <th>genre</th>\n",
       "      <th>lyrics</th>\n",
       "      <th>song words</th>\n",
       "    </tr>\n",
       "  </thead>\n",
       "  <tbody>\n",
       "    <tr>\n",
       "      <th>0</th>\n",
       "      <td>when-you-were-with-me</td>\n",
       "      <td>2009</td>\n",
       "      <td>a</td>\n",
       "      <td>Hip-Hop</td>\n",
       "      <td>I stopped by the house we called our home\\nIt ...</td>\n",
       "      <td>[i, stopped, house, called, home, it, little, ...</td>\n",
       "    </tr>\n",
       "    <tr>\n",
       "      <th>1</th>\n",
       "      <td>careless-whisper</td>\n",
       "      <td>2009</td>\n",
       "      <td>a</td>\n",
       "      <td>Hip-Hop</td>\n",
       "      <td>I feel so unsure\\nAs I take your hand and lead...</td>\n",
       "      <td>[i, feel, unsure, as, i, take, hand, lead, dan...</td>\n",
       "    </tr>\n",
       "    <tr>\n",
       "      <th>2</th>\n",
       "      <td>2-59</td>\n",
       "      <td>2007</td>\n",
       "      <td>a</td>\n",
       "      <td>Hip-Hop</td>\n",
       "      <td>Mark:] Sunday football I got boot off the pitc...</td>\n",
       "      <td>[mark, sunday, football, i, got, boot, pitch, ...</td>\n",
       "    </tr>\n",
       "    <tr>\n",
       "      <th>3</th>\n",
       "      <td>power-of-desire</td>\n",
       "      <td>2007</td>\n",
       "      <td>a</td>\n",
       "      <td>Hip-Hop</td>\n",
       "      <td>[Chris:] Fallin' for a fantasy\\nI threw away m...</td>\n",
       "      <td>[chris, fallin, fantasy, i, threw, away, desti...</td>\n",
       "    </tr>\n",
       "    <tr>\n",
       "      <th>4</th>\n",
       "      <td>you-re-not-in-love</td>\n",
       "      <td>2007</td>\n",
       "      <td>a</td>\n",
       "      <td>Hip-Hop</td>\n",
       "      <td>something in the way we touch\\nyou hold my han...</td>\n",
       "      <td>[something, way, touch, hold, hand, hold, back...</td>\n",
       "    </tr>\n",
       "  </tbody>\n",
       "</table>\n",
       "</div>"
      ],
      "text/plain": [
       "                    song  year artist    genre  \\\n",
       "0  when-you-were-with-me  2009      a  Hip-Hop   \n",
       "1       careless-whisper  2009      a  Hip-Hop   \n",
       "2                   2-59  2007      a  Hip-Hop   \n",
       "3        power-of-desire  2007      a  Hip-Hop   \n",
       "4     you-re-not-in-love  2007      a  Hip-Hop   \n",
       "\n",
       "                                              lyrics  \\\n",
       "0  I stopped by the house we called our home\\nIt ...   \n",
       "1  I feel so unsure\\nAs I take your hand and lead...   \n",
       "2  Mark:] Sunday football I got boot off the pitc...   \n",
       "3  [Chris:] Fallin' for a fantasy\\nI threw away m...   \n",
       "4  something in the way we touch\\nyou hold my han...   \n",
       "\n",
       "                                          song words  \n",
       "0  [i, stopped, house, called, home, it, little, ...  \n",
       "1  [i, feel, unsure, as, i, take, hand, lead, dan...  \n",
       "2  [mark, sunday, football, i, got, boot, pitch, ...  \n",
       "3  [chris, fallin, fantasy, i, threw, away, desti...  \n",
       "4  [something, way, touch, hold, hand, hold, back...  "
      ]
     },
     "execution_count": 51,
     "metadata": {},
     "output_type": "execute_result"
    }
   ],
   "source": [
    "\n",
    "# Maybe check male vs female singers\n",
    "# How though\n",
    "lyrics.head()"
   ]
  },
  {
   "cell_type": "code",
   "execution_count": 42,
   "metadata": {},
   "outputs": [],
   "source": [
    "N = 5\n",
    "count = 0\n",
    "count = 0 if count == N else N + 1  "
   ]
  },
  {
   "cell_type": "code",
   "execution_count": 44,
   "metadata": {},
   "outputs": [
    {
     "data": {
      "text/plain": [
       "6"
      ]
     },
     "execution_count": 44,
     "metadata": {},
     "output_type": "execute_result"
    }
   ],
   "source": [
    "count"
   ]
  },
  {
   "cell_type": "code",
   "execution_count": 56,
   "metadata": {},
   "outputs": [
    {
     "data": {
      "text/plain": [
       "float"
      ]
     },
     "execution_count": 56,
     "metadata": {},
     "output_type": "execute_result"
    }
   ],
   "source": [
    "type(sid.polarity_scores(\"I'm so happy\")['compound'])"
   ]
  },
  {
   "cell_type": "code",
   "execution_count": 69,
   "metadata": {},
   "outputs": [
    {
     "data": {
      "text/html": [
       "<div>\n",
       "<style scoped>\n",
       "    .dataframe tbody tr th:only-of-type {\n",
       "        vertical-align: middle;\n",
       "    }\n",
       "\n",
       "    .dataframe tbody tr th {\n",
       "        vertical-align: top;\n",
       "    }\n",
       "\n",
       "    .dataframe thead th {\n",
       "        text-align: right;\n",
       "    }\n",
       "</style>\n",
       "<table border=\"1\" class=\"dataframe\">\n",
       "  <thead>\n",
       "    <tr style=\"text-align: right;\">\n",
       "      <th></th>\n",
       "      <th>song</th>\n",
       "      <th>year</th>\n",
       "      <th>artist</th>\n",
       "      <th>genre</th>\n",
       "      <th>lyrics</th>\n",
       "      <th>song</th>\n",
       "      <th>year</th>\n",
       "      <th>artist</th>\n",
       "      <th>genre</th>\n",
       "      <th>lyrics</th>\n",
       "    </tr>\n",
       "  </thead>\n",
       "  <tbody>\n",
       "    <tr>\n",
       "      <th>0</th>\n",
       "      <td>when-you-were-with-me</td>\n",
       "      <td>2009</td>\n",
       "      <td>a</td>\n",
       "      <td>Hip-Hop</td>\n",
       "      <td>I stopped by the house we called our home\\nIt ...</td>\n",
       "      <td>when-you-were-with-me</td>\n",
       "      <td>2009</td>\n",
       "      <td>a</td>\n",
       "      <td>Hip-Hop</td>\n",
       "      <td>I stopped by the house we called our home\\nIt ...</td>\n",
       "    </tr>\n",
       "    <tr>\n",
       "      <th>1</th>\n",
       "      <td>careless-whisper</td>\n",
       "      <td>2009</td>\n",
       "      <td>a</td>\n",
       "      <td>Hip-Hop</td>\n",
       "      <td>I feel so unsure\\nAs I take your hand and lead...</td>\n",
       "      <td>careless-whisper</td>\n",
       "      <td>2009</td>\n",
       "      <td>a</td>\n",
       "      <td>Hip-Hop</td>\n",
       "      <td>I feel so unsure\\nAs I take your hand and lead...</td>\n",
       "    </tr>\n",
       "    <tr>\n",
       "      <th>2</th>\n",
       "      <td>2-59</td>\n",
       "      <td>2007</td>\n",
       "      <td>a</td>\n",
       "      <td>Hip-Hop</td>\n",
       "      <td>Mark:] Sunday football I got boot off the pitc...</td>\n",
       "      <td>2-59</td>\n",
       "      <td>2007</td>\n",
       "      <td>a</td>\n",
       "      <td>Hip-Hop</td>\n",
       "      <td>Mark:] Sunday football I got boot off the pitc...</td>\n",
       "    </tr>\n",
       "    <tr>\n",
       "      <th>3</th>\n",
       "      <td>power-of-desire</td>\n",
       "      <td>2007</td>\n",
       "      <td>a</td>\n",
       "      <td>Hip-Hop</td>\n",
       "      <td>[Chris:] Fallin' for a fantasy\\nI threw away m...</td>\n",
       "      <td>power-of-desire</td>\n",
       "      <td>2007</td>\n",
       "      <td>a</td>\n",
       "      <td>Hip-Hop</td>\n",
       "      <td>[Chris:] Fallin' for a fantasy\\nI threw away m...</td>\n",
       "    </tr>\n",
       "    <tr>\n",
       "      <th>4</th>\n",
       "      <td>you-re-not-in-love</td>\n",
       "      <td>2007</td>\n",
       "      <td>a</td>\n",
       "      <td>Hip-Hop</td>\n",
       "      <td>something in the way we touch\\nyou hold my han...</td>\n",
       "      <td>you-re-not-in-love</td>\n",
       "      <td>2007</td>\n",
       "      <td>a</td>\n",
       "      <td>Hip-Hop</td>\n",
       "      <td>something in the way we touch\\nyou hold my han...</td>\n",
       "    </tr>\n",
       "  </tbody>\n",
       "</table>\n",
       "</div>"
      ],
      "text/plain": [
       "                    song  year artist    genre  \\\n",
       "0  when-you-were-with-me  2009      a  Hip-Hop   \n",
       "1       careless-whisper  2009      a  Hip-Hop   \n",
       "2                   2-59  2007      a  Hip-Hop   \n",
       "3        power-of-desire  2007      a  Hip-Hop   \n",
       "4     you-re-not-in-love  2007      a  Hip-Hop   \n",
       "\n",
       "                                              lyrics                   song  \\\n",
       "0  I stopped by the house we called our home\\nIt ...  when-you-were-with-me   \n",
       "1  I feel so unsure\\nAs I take your hand and lead...       careless-whisper   \n",
       "2  Mark:] Sunday football I got boot off the pitc...                   2-59   \n",
       "3  [Chris:] Fallin' for a fantasy\\nI threw away m...        power-of-desire   \n",
       "4  something in the way we touch\\nyou hold my han...     you-re-not-in-love   \n",
       "\n",
       "   year artist    genre                                             lyrics  \n",
       "0  2009      a  Hip-Hop  I stopped by the house we called our home\\nIt ...  \n",
       "1  2009      a  Hip-Hop  I feel so unsure\\nAs I take your hand and lead...  \n",
       "2  2007      a  Hip-Hop  Mark:] Sunday football I got boot off the pitc...  \n",
       "3  2007      a  Hip-Hop  [Chris:] Fallin' for a fantasy\\nI threw away m...  \n",
       "4  2007      a  Hip-Hop  something in the way we touch\\nyou hold my han...  "
      ]
     },
     "execution_count": 69,
     "metadata": {},
     "output_type": "execute_result"
    }
   ],
   "source": [
    "df = pd.concat([lyrics, lyrics], axis =1)\n",
    "df.head()"
   ]
  },
  {
   "cell_type": "code",
   "execution_count": null,
   "metadata": {},
   "outputs": [],
   "source": []
  }
 ],
 "metadata": {
  "kernelspec": {
   "display_name": "Python 3",
   "language": "python",
   "name": "python3"
  },
  "language_info": {
   "codemirror_mode": {
    "name": "ipython",
    "version": 3
   },
   "file_extension": ".py",
   "mimetype": "text/x-python",
   "name": "python",
   "nbconvert_exporter": "python",
   "pygments_lexer": "ipython3",
   "version": "3.7.4"
  }
 },
 "nbformat": 4,
 "nbformat_minor": 2
}
